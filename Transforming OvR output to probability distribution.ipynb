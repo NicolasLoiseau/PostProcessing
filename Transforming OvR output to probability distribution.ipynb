{
 "cells": [
  {
   "cell_type": "markdown",
   "metadata": {},
   "source": [
    "##### Autors : \n",
    "\n",
    "Victor Nguyen, Julien Perrin, Nicolas Loiseau\n",
    "\n",
    "##### Reference : \n",
    "\n",
    "John S. Denker and Yann LeCun. Transforming neural-net output levels to probability\n",
    "distributions. In Advances in Neural Information Processing Systems 3, [NIPS\n",
    "Conference, Denver, Colorado, USA, November 26-29, 1990], pages 853–859, 1990."
   ]
  },
  {
   "cell_type": "markdown",
   "metadata": {},
   "source": [
    "###### The goal here is to build a post processor on a multi class classifier (One-vs-Rest with logistic regression as a binary classifier) to transform the output into a probability distribution. According to the article above, we use a Bayesian approach probabilizing the parameters of the classifier (here the logistic regressions parameters) to determine the probability of each class knowing the input. Some assuptions are made such as the normal distribution of the output knowing the input.\n",
    "\n",
    "###### The model is improved for particular values of the hyper parameter beta representing the overall confidence in the train data."
   ]
  },
  {
   "cell_type": "code",
   "execution_count": 1,
   "metadata": {},
   "outputs": [],
   "source": [
    "import warnings\n",
    "\n",
    "import random\n",
    "\n",
    "import matplotlib.patches as mpatches\n",
    "import matplotlib.pyplot as plt\n",
    "plt.style.use('ggplot')\n",
    "%matplotlib inline\n",
    "\n",
    "import numpy as np\n",
    "import pandas as pd\n",
    "\n",
    "from sklearn import datasets\n",
    "from sklearn.linear_model import LogisticRegression\n",
    "from sklearn.multiclass import OneVsRestClassifier\n",
    "\n",
    "import seaborn as sns\n",
    "import pylab\n",
    "sns.set(style=\"ticks\")"
   ]
  },
  {
   "cell_type": "code",
   "execution_count": 2,
   "metadata": {},
   "outputs": [],
   "source": [
    "# ADD A WAY TO REMOVE THE NORMALISATION L1 ON THE OUTPUT\n",
    "\n",
    "def predict_proba(clf, X, normalize=True):\n",
    "    if normalize:\n",
    "        probas = clf.predict_proba(X)\n",
    "    else:\n",
    "        probas = clf.decision_function(X)\n",
    "        probas *= -1\n",
    "        np.exp(probas, probas)\n",
    "        probas += 1\n",
    "        np.reciprocal(probas, probas)\n",
    "    return probas"
   ]
  },
  {
   "cell_type": "code",
   "execution_count": 3,
   "metadata": {},
   "outputs": [],
   "source": [
    "# LOAD IRIS DATA\n",
    "\n",
    "iris = datasets.load_iris()\n",
    "X, y = iris.data, iris.target"
   ]
  },
  {
   "cell_type": "markdown",
   "metadata": {},
   "source": [
    "# Scattered distribution"
   ]
  },
  {
   "cell_type": "code",
   "execution_count": 4,
   "metadata": {},
   "outputs": [
    {
     "data": {
      "text/plain": [
       "<module 'matplotlib.pyplot' from '/Library/Frameworks/Python.framework/Versions/3.6/lib/python3.6/site-packages/matplotlib/pyplot.py'>"
      ]
     },
     "execution_count": 4,
     "metadata": {},
     "output_type": "execute_result"
    },
    {
     "data": {
      "image/png": "[encoded data removed]",
      "text/plain": [
       "<matplotlib.figure.Figure at 0x10a911240>"
      ]
     },
     "metadata": {},
     "output_type": "display_data"
    }
   ],
   "source": [
    "clf = OneVsRestClassifier(LogisticRegression()).fit(X, y)\n",
    "\n",
    "Out = predict_proba(clf, X, normalize=False)\n",
    "data = pd.DataFrame(Out, columns=['p0','p1','p2'])\n",
    "data['classe'] = pd.Series(y, index=data.index)\n",
    "\n",
    "def scatter(x, y, data=data, classes='classe',save=False):\n",
    "    query = 'classe=={} or classe=={}'.format(x,y)\n",
    "    xp = 'p{}'.format(x)\n",
    "    yp = 'p{}'.format(y)\n",
    "    df = data.query(query)\n",
    "    plt1 = sns.lmplot(data=df, x=xp, y=yp, markers=[\"o\",\"x\"],hue=classes, fit_reg=False)\n",
    "    plt1 = (plt1.set_axis_labels('Prédicteur de la classe {}'.format(x), 'Prédicteur de la classe {}'.format(y)))\n",
    "    if save :\n",
    "        pylab.savefig('{}_scatter_{}'.format(x,y))\n",
    "    return plt\n",
    "\n",
    "scatter(1,0, save=True)"
   ]
  },
  {
   "cell_type": "markdown",
   "metadata": {},
   "source": [
    "# Post OvR processor"
   ]
  },
  {
   "cell_type": "code",
   "execution_count": 5,
   "metadata": {},
   "outputs": [],
   "source": [
    "# TOOLS\n",
    "\n",
    "def logit(x):\n",
    "    return np.log(x/(1-x))\n",
    "\n",
    "def density(params):\n",
    "    m = params[0]\n",
    "    s2 = params[1]\n",
    "    def f(x):\n",
    "        return np.exp(-(x-m)**2/(2*s2))/np.sqrt(2*np.pi*s2)\n",
    "    return f\n",
    "\n",
    "def prod(func):\n",
    "    def f(l):\n",
    "        output = 1\n",
    "        if len(l) != len(func):\n",
    "            raise error\n",
    "        for f_, x in zip(func, l):\n",
    "            output *= f_(x)\n",
    "        return output\n",
    "    return f\n",
    "\n",
    "def sumf(func):\n",
    "    def f(l):\n",
    "        output = 0\n",
    "        for f_ in func:\n",
    "            output += f_(l)\n",
    "        return output\n",
    "    return f"
   ]
  },
  {
   "cell_type": "code",
   "execution_count": 6,
   "metadata": {},
   "outputs": [],
   "source": [
    "# VALUES OF THE PARAMETER BETA\n",
    "betas = [np.exp(i*0.5-10) for i in range(50)]\n",
    "\n",
    "# PORTION OF TRAIN & CALIBRATION DBs\n",
    "train_portion = 0.3\n",
    "calib_portion = 0.3\n",
    "\n",
    "# IF TRUE O=WI ELSE O=sigmoid(WI)\n",
    "linear_model = True"
   ]
  },
  {
   "cell_type": "code",
   "execution_count": 7,
   "metadata": {},
   "outputs": [],
   "source": [
    "warnings.filterwarnings(\"ignore\")\n",
    "\n",
    "score_train = 0\n",
    "score_test = 0\n",
    "score_calib = 0\n",
    "all_nscore_train = np.zeros(len(betas))\n",
    "all_nscore_test = np.zeros(len(betas))\n",
    "all_nscore_calib = np.zeros(len(betas))\n",
    "\n",
    "iter_ = 30\n",
    "for i in range(iter_):\n",
    "    \n",
    "    # BUILD TRAIN, CALIBRATION & TEST DATABASES\n",
    "    elem_nb = X.shape[0]\n",
    "    index = list(range(elem_nb))\n",
    "    random.shuffle(index)\n",
    "    \n",
    "    train_index = index[:int(train_portion*elem_nb)]\n",
    "    calib_index = index[int(train_portion*elem_nb):int((train_portion+calib_portion)*elem_nb)]\n",
    "    test_index = index[int((train_portion+calib_portion)*elem_nb):]\n",
    "\n",
    "    X_train, y_train = X[train_index,:], y[train_index]\n",
    "    X_calib, y_calib = X[calib_index,:], y[calib_index]\n",
    "    X_test, y_test = X[test_index,:], y[test_index]\n",
    "\n",
    "    X_list = [X_train, X_test, X_calib]\n",
    "    y_list =  [y_train, y_test, y_calib]\n",
    "    \n",
    "    # DROP FEATURES WITH NULL VARIANCE\n",
    "    feature_to_keep = [i for i in range(X_calib.shape[1]) if np.var(X_calib[:,i]) != 0]\n",
    "    X_calib = X_calib[:,feature_to_keep]\n",
    "    X_train = X_train[:,feature_to_keep]\n",
    "    X_test = X_test[:,feature_to_keep]\n",
    "\n",
    "    # TRAIN CLASSIFIER\n",
    "    clf = OneVsRestClassifier(LogisticRegression(fit_intercept=False)).fit(X_train, y_train)\n",
    "\n",
    "    # GET THE OUTPUT OF THE CLASSIFIER ON THE CALIBRATION DB\n",
    "    if linear_model:\n",
    "        Out = logit(predict_proba(clf, X_calib, normalize=False))\n",
    "    else:\n",
    "        Out = predict_proba(clf, X_calib, normalize=False)\n",
    "    \n",
    "    # GET THE DIMENSIONS\n",
    "    K = len(X_calib[0])\n",
    "    J = len(set(list(y_calib)))\n",
    "    L = X_calib.shape[0]\n",
    "\n",
    "    # INIT THE SCORES\n",
    "    score_train += np.mean(clf.predict(X_train)==y_train)\n",
    "    score_test += np.mean(clf.predict(X_test)==y_test)\n",
    "    score_calib += np.mean(clf.predict(X_calib)==y_calib)\n",
    "    nscore_train, nscore_test, nscore_calib = [], [], []\n",
    "\n",
    "    # LOOP ON BETA VALUES\n",
    "    for beta in betas:\n",
    "\n",
    "        # GAMMA\n",
    "        gamma = np.zeros((J, K, L))\n",
    "        if linear_model:\n",
    "            for n in range(L):\n",
    "                I = X_calib[n].reshape(1, K)\n",
    "                gamma[:,:,n] = np.dot(np.ones((J,1)), I)\n",
    "        else:\n",
    "            for n in range(L):\n",
    "                I = X_calib[n].reshape(1, K)\n",
    "                O = Out[n].reshape(J, 1)\n",
    "                gamma[:,:,n] = np.dot(O*(1-O), I)\n",
    "\n",
    "        # H\n",
    "        h = 2*(gamma*gamma).sum(axis=2)\n",
    "\n",
    "        # SIGMA\n",
    "        sigma2 = 1 / beta * np.multiply(gamma*gamma, 1 / h[:,:, np.newaxis]).sum(axis=1)\n",
    "\n",
    "        # Pj(O|I) & P(O|I)\n",
    "        params = np.dstack((Out.transpose(), sigma2))\n",
    "        Pj = np.apply_along_axis(density, axis=2, arr=params)\n",
    "        Poi = np.apply_along_axis(prod, axis=0, arr=Pj).flatten()\n",
    "\n",
    "        # SUM P(O|I) on I\n",
    "        sumofP = np.apply_along_axis(sumf, axis=0, arr=Poi).flatten()[0]\n",
    "        index = (np.where(y_calib==c) for c in clf.classes_)\n",
    "        sumofPc = np.array([np.apply_along_axis(sumf, axis=0, arr=Poi[ind]).flatten()[0] for ind in index])\n",
    "\n",
    "        # P(c|I) - OUTPUT OF THE POST PROCESS\n",
    "        def P(j, I):\n",
    "            if linear_model:\n",
    "                obar = logit(predict_proba(clf, I.reshape(1,K), normalize=False)[0])\n",
    "            else:\n",
    "                obar = predict_proba(clf, I.reshape(1,K), normalize=False)[0]\n",
    "            return sumofPc[j](obar)/sumofP(obar)\n",
    "\n",
    "        # COMPUTE THE SCORE OF THE NEW CLF ON THE 3 DBs\n",
    "        for score, X_, y_ in zip((nscore_train, nscore_test, nscore_calib), X_list, y_list):\n",
    "            score.append(np.mean(np.array([np.argmax([P(j,I) for j in range(J)]) for I in X_])==y_))\n",
    "    \n",
    "    all_nscore = (all_nscore_train, all_nscore_test, all_nscore_calib)\n",
    "    n_score = (nscore_train, nscore_test, nscore_calib)\n",
    "    for all_score, score in zip(all_nscore, n_score):\n",
    "        all_score += np.array(score)\n",
    "\n",
    "score_train /= iter_\n",
    "score_test /= iter_\n",
    "score_calib /= iter_\n",
    "all_nscore_train /= iter_\n",
    "all_nscore_test /= iter_\n",
    "all_nscore_calib /= iter_"
   ]
  },
  {
   "cell_type": "markdown",
   "metadata": {},
   "source": [
    "# Results"
   ]
  },
  {
   "cell_type": "code",
   "execution_count": 8,
   "metadata": {},
   "outputs": [
    {
     "data": {
      "text/plain": [
       "<matplotlib.legend.Legend at 0x10ad59898>"
      ]
     },
     "execution_count": 8,
     "metadata": {},
     "output_type": "execute_result"
    },
    {
     "data": {
      "image/png": "[encoded data removed]",
      "text/plain": [
       "<matplotlib.figure.Figure at 0x10aa70d30>"
      ]
     },
     "metadata": {},
     "output_type": "display_data"
    }
   ],
   "source": [
    "# PLOT\n",
    "\n",
    "plt.style.use('ggplot')\n",
    "\n",
    "plt.ylabel('score')\n",
    "plt.xlabel('log(beta)')\n",
    "\n",
    "x = [np.log(b) for b in betas]\n",
    "\n",
    "plt.plot(x, all_nscore_test, color='dodgerblue')\n",
    "plt.plot(x, all_nscore_train, color='lightblue')\n",
    "plt.plot(x, all_nscore_calib, color='c')\n",
    "\n",
    "plt.axhline(y=score_test, color='crimson')\n",
    "plt.axhline(y=score_train, color='coral')\n",
    "plt.axhline(y=score_calib, color='magenta')\n",
    "\n",
    "red_patch = mpatches.Patch(color='crimson', label='old - score on test')\n",
    "orange_patch = mpatches.Patch(color='coral', label='old - score on train')\n",
    "magenta_patch = mpatches.Patch(color='magenta', label='old - score on calib')\n",
    "\n",
    "blue_patch = mpatches.Patch(color='dodgerblue', label='new - score on test')\n",
    "green_patch = mpatches.Patch(color='c', label='new - score on calib')\n",
    "lightblue = mpatches.Patch(color='lightblue', label='new - score on train')\n",
    "\n",
    "plt.legend(handles=[red_patch, orange_patch, magenta_patch, blue_patch, green_patch, lightblue])\n",
    "\n",
    "# plt.savefig('iris_linear.png', dpi=300)"
   ]
  }
 ],
 "metadata": {
  "kernelspec": {
   "display_name": "Python 3",
   "language": "python",
   "name": "python3"
  },
  "language_info": {
   "codemirror_mode": {
    "name": "ipython",
    "version": 3
   },
   "file_extension": ".py",
   "mimetype": "text/x-python",
   "name": "python",
   "nbconvert_exporter": "python",
   "pygments_lexer": "ipython3",
   "version": "3.6.4"
  }
 },
 "nbformat": 4,
 "nbformat_minor": 2
}
